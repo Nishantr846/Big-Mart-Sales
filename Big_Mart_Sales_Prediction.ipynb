{
 "cells": [
  {
   "cell_type": "code",
   "execution_count": 1,
   "id": "ffe2417d-d871-49df-bdf0-07ffd014620d",
   "metadata": {},
   "outputs": [
    {
     "name": "stdout",
     "output_type": "stream",
     "text": [
      "2438.3586\n"
     ]
    }
   ],
   "source": [
    "# Importing all the dependencies\n",
    "import numpy as np\n",
    "import pandas as pd\n",
    "from sklearn.preprocessing import LabelEncoder\n",
    "from sklearn.model_selection import train_test_split\n",
    "from sklearn import metrics\n",
    "from xgboost import XGBRegressor\n",
    "\n",
    "# Data Collection and analysis\n",
    "dataset = pd.read_csv(r\"C:\\Users\\Nishant\\Desktop\\ML\\Big Mart Sales\\Data.csv\")\n",
    "\n",
    "# Handling Missing Values\n",
    "dataset['Item_Weight'].fillna(dataset['Item_Weight'].mean(), inplace=True)\n",
    "mode_of_outlet_size = dataset.pivot_table(values='Outlet_Size', columns='Outlet_Type', aggfunc=lambda x: x.mode()[0])\n",
    "missing_values = dataset['Outlet_Size'].isnull()\n",
    "dataset.loc[missing_values, 'Outlet_Size'] = dataset.loc[missing_values, 'Outlet_Type'].apply(lambda x: mode_of_outlet_size[x])\n",
    "\n",
    "# Data Preprocessing\n",
    "dataset.replace({'Item_Fat_Content': {'low fat': 'Low Fat', 'LF': 'Low Fat', 'reg': 'Regular'}}, inplace=True)\n",
    "encoder = LabelEncoder()\n",
    "for column in ['Item_Identifier', 'Item_Fat_Content', 'Item_Type', 'Outlet_Identifier', \n",
    "               'Outlet_Size', 'Outlet_Location_Type', 'Outlet_Type']:\n",
    "    dataset[column] = encoder.fit_transform(dataset[column].astype(str))\n",
    "\n",
    "# Splitting features and target\n",
    "X = dataset.drop(columns='Item_Outlet_Sales', axis=1)\n",
    "Y = dataset['Item_Outlet_Sales']\n",
    "X_train, X_test, Y_train, Y_test = train_test_split(X, Y, test_size=0.2, random_state=2)\n",
    "\n",
    "# Machine Learning Model Training\n",
    "regressor = XGBRegressor()\n",
    "regressor.fit(X_train, Y_train)\n",
    "\n",
    "# Predictive System\n",
    "def predictive_system(input_data):\n",
    "    \"\"\"\n",
    "    Predicts Item Outlet Sales based on the input data.\n",
    "    \n",
    "    Parameters:\n",
    "    input_data (dict): Dictionary containing all input feature values.\n",
    "    \n",
    "    Returns:\n",
    "    float: Predicted sales value.\n",
    "    \"\"\"\n",
    "    # Convert the input dictionary to a DataFrame\n",
    "    input_df = pd.DataFrame([input_data])\n",
    "    \n",
    "    # Apply label encoding to categorical features\n",
    "    for column in ['Item_Identifier', 'Item_Fat_Content', 'Item_Type', 'Outlet_Identifier', \n",
    "                   'Outlet_Size', 'Outlet_Location_Type', 'Outlet_Type']:\n",
    "        input_df[column] = encoder.fit_transform(input_df[column].astype(str))\n",
    "    \n",
    "    # Ensure column order matches training set\n",
    "    input_df = input_df[X.columns]\n",
    "    \n",
    "    # Predict using the trained model\n",
    "    prediction = regressor.predict(input_df)\n",
    "    return prediction[0]\n",
    "\n",
    "# Example usage of the predictive system\n",
    "input_example = {\n",
    "    'Item_Identifier': 'FDA15',\n",
    "    'Item_Weight': 9.3,\n",
    "    'Item_Fat_Content': 'Low Fat',\n",
    "    'Item_Visibility': 0.016047,\n",
    "    'Item_Type': 'Dairy',\n",
    "    'Item_MRP': 249.8092,\n",
    "    'Outlet_Identifier': 'OUT049',\n",
    "    'Outlet_Establishment_Year': 1999,\n",
    "    'Outlet_Size': 'Medium',\n",
    "    'Outlet_Location_Type': 'Tier 1',\n",
    "    'Outlet_Type': 'Supermarket Type1'\n",
    "}\n",
    "\n",
    "# Print the predicted sales\n",
    "predicted_sales = predictive_system(input_example)\n",
    "print(predicted_sales)\n"
   ]
  },
  {
   "cell_type": "code",
   "execution_count": null,
   "id": "252f03bd-dc01-4be5-8a33-394437a22944",
   "metadata": {},
   "outputs": [],
   "source": []
  }
 ],
 "metadata": {
  "kernelspec": {
   "display_name": "Python 3 (ipykernel)",
   "language": "python",
   "name": "python3"
  },
  "language_info": {
   "codemirror_mode": {
    "name": "ipython",
    "version": 3
   },
   "file_extension": ".py",
   "mimetype": "text/x-python",
   "name": "python",
   "nbconvert_exporter": "python",
   "pygments_lexer": "ipython3",
   "version": "3.11.7"
  }
 },
 "nbformat": 4,
 "nbformat_minor": 5
}
